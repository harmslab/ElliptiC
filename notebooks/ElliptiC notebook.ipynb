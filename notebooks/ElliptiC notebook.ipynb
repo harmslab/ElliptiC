{
 "cells": [
  {
   "cell_type": "code",
   "execution_count": 1,
   "id": "feb96deb-6a67-4405-8a9b-d407edeac21b",
   "metadata": {},
   "outputs": [],
   "source": [
    "#@title Set up calculation\n",
    "\n",
    "#@markdown This cell configures the environment for the following calculations.\n",
    "#@markdown Run it before doing any of the work below.\n",
    "\n",
    "#@markdown To run the cell, click the \"Play\" button to the left or hit `[Shift]+[Enter]`.\n",
    "\n",
    "try:\n",
    "    import google.colab\n",
    "    RUNNING_IN_COLAB = True\n",
    "except ImportError:\n",
    "    RUNNING_IN_COLAB = False\n",
    "except Exception as e: \n",
    "    err = \"Could not figure out if runnning in a colab notebook\\n\"\n",
    "    raise Exception(err) from e\n",
    "\n",
    "# ------------------------------------------------------------------------------\n",
    "# Imports\n",
    "\n",
    "if RUNNING_IN_COLAB:\n",
    "    %pip install -q ElliptiC\n",
    "\n",
    "import ElliptiC as ec\n",
    "\n",
    "if RUNNING_IN_COLAB:\n",
    "    \n",
    "    from google.colab import files\n",
    "    files.upload()"
   ]
  },
  {
   "cell_type": "code",
   "execution_count": 3,
   "id": "bbd75c91-8c77-44bb-a657-ece5fc465c93",
   "metadata": {},
   "outputs": [
    {
     "ename": "TypeError",
     "evalue": "run_all() missing 1 required positional argument: 'f'",
     "output_type": "error",
     "traceback": [
      "\u001b[0;31m---------------------------------------------------------------------------\u001b[0m",
      "\u001b[0;31mTypeError\u001b[0m                                 Traceback (most recent call last)",
      "Cell \u001b[0;32mIn[3], line 1\u001b[0m\n\u001b[0;32m----> 1\u001b[0m \u001b[43mec\u001b[49m\u001b[38;5;241;43m.\u001b[39;49m\u001b[43mrun_all\u001b[49m\u001b[43m(\u001b[49m\u001b[43m)\u001b[49m\n",
      "\u001b[0;31mTypeError\u001b[0m: run_all() missing 1 required positional argument: 'f'"
     ]
    }
   ],
   "source": [
    "ec.run_all()\n"
   ]
  },
  {
   "cell_type": "code",
   "execution_count": null,
   "id": "b46cd034-88ef-40d9-9793-e9565b5313b1",
   "metadata": {},
   "outputs": [],
   "source": []
  }
 ],
 "metadata": {
  "kernelspec": {
   "display_name": "Python 3 (ipykernel)",
   "language": "python",
   "name": "python3"
  },
  "language_info": {
   "codemirror_mode": {
    "name": "ipython",
    "version": 3
   },
   "file_extension": ".py",
   "mimetype": "text/x-python",
   "name": "python",
   "nbconvert_exporter": "python",
   "pygments_lexer": "ipython3",
   "version": "3.9.12"
  }
 },
 "nbformat": 4,
 "nbformat_minor": 5
}
